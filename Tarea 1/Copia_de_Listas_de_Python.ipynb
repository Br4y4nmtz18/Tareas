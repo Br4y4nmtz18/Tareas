{
  "nbformat": 4,
  "nbformat_minor": 0,
  "metadata": {
    "colab": {
      "provenance": []
    },
    "kernelspec": {
      "name": "python3",
      "display_name": "Python 3"
    },
    "language_info": {
      "name": "python"
    }
  },
  "cells": [
    {
      "cell_type": "code",
      "source": [
        "a = [90, \"Python\", 3.87]\n",
        "print(a[0]) #90\n",
        "print(a[1]) #Python\n",
        "print(a[2]) #3.87"
      ],
      "metadata": {
        "colab": {
          "base_uri": "https://localhost:8080/"
        },
        "id": "x8WkJaU15Hu6",
        "outputId": "20de60ce-e88a-4eb4-de80-e1d815bc0693"
      },
      "execution_count": null,
      "outputs": [
        {
          "output_type": "stream",
          "name": "stdout",
          "text": [
            "90\n",
            "Python\n",
            "3.87\n"
          ]
        }
      ]
    },
    {
      "cell_type": "code",
      "source": [
        "#Se puede también acceder al último elemento usando el índice [-1]\n",
        "print(a[-2]) #Python"
      ],
      "metadata": {
        "colab": {
          "base_uri": "https://localhost:8080/"
        },
        "id": "uls3B3i374Zq",
        "outputId": "ba1f497f-4ee9-4b82-df58-9739c66ee479"
      },
      "execution_count": null,
      "outputs": [
        {
          "output_type": "stream",
          "name": "stdout",
          "text": [
            "Python\n"
          ]
        }
      ]
    },
    {
      "cell_type": "code",
      "source": [
        "#Y si queremos modificar un elemento de la lista, basta con asignar con el operador = el nuevo valor.\n",
        "a[2] = 1\n",
        "print(a) #[90, 'Python', 1]"
      ],
      "metadata": {
        "colab": {
          "base_uri": "https://localhost:8080/"
        },
        "id": "rISMiG4S8DoI",
        "outputId": "0b0c0fda-6ece-4a4a-866f-dd1ebe10b243"
      },
      "execution_count": null,
      "outputs": [
        {
          "output_type": "stream",
          "name": "stdout",
          "text": [
            "[90, 'Python', 1]\n"
          ]
        }
      ]
    },
    {
      "cell_type": "code",
      "source": [
        "#Un elemento puede ser eliminado con diferentes métodos como veremos a continuación,\n",
        "#o con del y la lista con el índice a eliminar.\n",
        "l = [1, 2, 3, 4, 5]\n",
        "del l[1]\n",
        "print(l) #[1, 3, 4, 5]"
      ],
      "metadata": {
        "colab": {
          "base_uri": "https://localhost:8080/"
        },
        "id": "yEB8hibp8H56",
        "outputId": "2ffe83e5-6d7c-4f63-b16d-1a3136da4f69"
      },
      "execution_count": null,
      "outputs": [
        {
          "output_type": "stream",
          "name": "stdout",
          "text": [
            "[1, 3, 4, 5]\n"
          ]
        }
      ]
    },
    {
      "cell_type": "code",
      "source": [
        "x = [1, 2, 3, ['p', 'q', [5, 6, 7]]]\n",
        "print(x[3][0])    #p\n",
        "print(x[3][2][0]) #5\n",
        "print(x[3][2][2]) #7"
      ],
      "metadata": {
        "colab": {
          "base_uri": "https://localhost:8080/"
        },
        "id": "uZZQ0mYT8KVI",
        "outputId": "4e595694-3427-4a6c-f695-2a7d5748c765"
      },
      "execution_count": null,
      "outputs": [
        {
          "output_type": "stream",
          "name": "stdout",
          "text": [
            "p\n",
            "5\n",
            "7\n"
          ]
        }
      ]
    },
    {
      "cell_type": "code",
      "source": [
        "# Y de la misma manera podemos modificar múltiples valores de la lista a la vez usando :\n",
        "l = [1, 2, 3, 4, 5, 6]\n",
        "l[0:3] = [0, 0, 0]\n",
        "print(l) #[0, 0, 0, 4, 5, 6]"
      ],
      "metadata": {
        "colab": {
          "base_uri": "https://localhost:8080/"
        },
        "id": "T1MGJN3k8PSv",
        "outputId": "a2cbae63-6dd6-4862-ff46-47d008db7673"
      },
      "execution_count": null,
      "outputs": [
        {
          "output_type": "stream",
          "name": "stdout",
          "text": [
            "[0, 0, 0, 4, 5, 6]\n"
          ]
        }
      ]
    },
    {
      "cell_type": "code",
      "source": [
        "# Hay ciertos operadores como el + que pueden ser usados sobre las listas.\n",
        "l = [1, 2, 3]\n",
        "l += [4, 5]\n",
        "print(l) #[1, 2, 3, 4, 5]"
      ],
      "metadata": {
        "colab": {
          "base_uri": "https://localhost:8080/"
        },
        "id": "HO8FSma28TJo",
        "outputId": "5c82739a-1446-42bb-e3c9-f55f2e1bf554"
      },
      "execution_count": null,
      "outputs": [
        {
          "output_type": "stream",
          "name": "stdout",
          "text": [
            "[1, 2, 3, 4, 5]\n"
          ]
        }
      ]
    },
    {
      "cell_type": "code",
      "source": [
        "#Y una funcionalidad muy interesante es que se puede asignar una lista con n elementos a n variables.\n",
        "l = [1, 2, 3]\n",
        "x, y, z = l\n",
        "print(x, y, z) #1 2 3"
      ],
      "metadata": {
        "colab": {
          "base_uri": "https://localhost:8080/"
        },
        "id": "NBAxAVzm8a2n",
        "outputId": "ea111141-2c7a-4df6-beae-69f188013b4e"
      },
      "execution_count": null,
      "outputs": [
        {
          "output_type": "stream",
          "name": "stdout",
          "text": [
            "1 2 3\n"
          ]
        }
      ]
    },
    {
      "cell_type": "code",
      "source": [
        "lista = [5, 9, 10]\n",
        "for l in lista:\n",
        "    print(l)\n",
        "#5\n",
        "#9\n",
        "#10"
      ],
      "metadata": {
        "colab": {
          "base_uri": "https://localhost:8080/"
        },
        "id": "kot0iuUq8dDH",
        "outputId": "14dafc2b-c7cd-46db-a053-1dcec4687140"
      },
      "execution_count": null,
      "outputs": [
        {
          "output_type": "stream",
          "name": "stdout",
          "text": [
            "5\n",
            "9\n",
            "10\n"
          ]
        }
      ]
    },
    {
      "cell_type": "code",
      "source": [
        "# Si necesitamos un índice acompañado con la lista, que tome valores desde 0 hasta n-1, se puede hacer de la siguiente manera.\n",
        "lista = [5, 9, 10]\n",
        "for index, l in enumerate(lista):\n",
        "    print(index, l)\n",
        "#0 5\n",
        "#1 9\n",
        "#2 10"
      ],
      "metadata": {
        "colab": {
          "base_uri": "https://localhost:8080/"
        },
        "id": "JjeriCwF8ibR",
        "outputId": "91218127-1275-4733-bcc5-ec36c096559d"
      },
      "execution_count": null,
      "outputs": [
        {
          "output_type": "stream",
          "name": "stdout",
          "text": [
            "0 5\n",
            "1 9\n",
            "2 10\n"
          ]
        }
      ]
    },
    {
      "cell_type": "code",
      "source": [
        "# O si tenemos dos listas y las queremos iterar a la vez, también es posible hacerlo.\n",
        "lista1 = [5, 9, 10]\n",
        "lista2 = [\"Jazz\", \"Rock\", \"Djent\"]\n",
        "for l1, l2 in zip(lista1, lista2):\n",
        "    print(l1, l2)\n",
        "#5 Jazz\n",
        "#9 Rock\n",
        "#10 Djent"
      ],
      "metadata": {
        "colab": {
          "base_uri": "https://localhost:8080/"
        },
        "id": "rUzSp_1K8lgW",
        "outputId": "8385e964-77eb-482d-ab32-b6ed8982bc05"
      },
      "execution_count": null,
      "outputs": [
        {
          "output_type": "stream",
          "name": "stdout",
          "text": [
            "5 Jazz\n",
            "9 Rock\n",
            "10 Djent\n"
          ]
        }
      ]
    },
    {
      "cell_type": "code",
      "source": [
        "#Y por supuesto, también se pueden iterar las listas usando los índices como hemos visto al principio,\n",
        "# y haciendo uso de len(), que nos devuelve la longitud de la lista.\n",
        "lista1 = [5, 9, 10]\n",
        "for i in range(0, len(lista)):\n",
        "    print(lista1[i])\n",
        "#5\n",
        "#9\n",
        "#10"
      ],
      "metadata": {
        "colab": {
          "base_uri": "https://localhost:8080/"
        },
        "id": "Nmj9_z1k8pCP",
        "outputId": "4e2403f4-3f11-4be8-e7c7-9257f52981c7"
      },
      "execution_count": null,
      "outputs": [
        {
          "output_type": "stream",
          "name": "stdout",
          "text": [
            "5\n",
            "9\n",
            "10\n"
          ]
        }
      ]
    },
    {
      "cell_type": "code",
      "source": [
        "l = [1, 2]\n",
        "l.append(3)\n",
        "print(l) #[1, 2, 3]"
      ],
      "metadata": {
        "colab": {
          "base_uri": "https://localhost:8080/"
        },
        "id": "MgqPPQ278t4H",
        "outputId": "f8d61e29-c451-4950-c8c2-9069f577008c"
      },
      "execution_count": null,
      "outputs": [
        {
          "output_type": "stream",
          "name": "stdout",
          "text": [
            "[1, 2, 3]\n"
          ]
        }
      ]
    },
    {
      "cell_type": "code",
      "source": [
        "# extend(<iterable>)\n",
        "# El método extend() permite añadir una lista a la lista inicial.\n",
        "l = [1, 3]\n",
        "l.insert(1, 2)\n",
        "print(l) #[1, 2, 3]"
      ],
      "metadata": {
        "colab": {
          "base_uri": "https://localhost:8080/"
        },
        "id": "clAfS23x8zs_",
        "outputId": "305ff36c-6e42-4489-93db-0f573d807d14"
      },
      "execution_count": null,
      "outputs": [
        {
          "output_type": "stream",
          "name": "stdout",
          "text": [
            "[1, 2, 3]\n"
          ]
        }
      ]
    },
    {
      "cell_type": "code",
      "source": [
        "#remove(<obj>)\n",
        "#El método remove() recibe como argumento un objeto y lo borra de la lista.\n",
        "l = [1, 2, 3]\n",
        "l.remove(3)\n",
        "print(l) #[1, 2]"
      ],
      "metadata": {
        "colab": {
          "base_uri": "https://localhost:8080/"
        },
        "id": "3H80ZcVo81mo",
        "outputId": "68dbd8d4-8a29-444e-a6fb-d780d3c44f22"
      },
      "execution_count": null,
      "outputs": [
        {
          "output_type": "stream",
          "name": "stdout",
          "text": [
            "[1, 2]\n"
          ]
        }
      ]
    },
    {
      "cell_type": "code",
      "source": [
        "#pop(index=-1)\n",
        "# El método pop() elimina por defecto el último elemento de la lista,\n",
        "# pero si se pasa como parámetro un índice permite borrar elementos diferentes al último.\n",
        "l = [1, 2, 3]\n",
        "l.pop()\n",
        "print(l) #[1, 2]"
      ],
      "metadata": {
        "colab": {
          "base_uri": "https://localhost:8080/"
        },
        "id": "ahNrzqvm87If",
        "outputId": "7471f48f-285b-4241-fa6a-6d64e2d73c08"
      },
      "execution_count": null,
      "outputs": [
        {
          "output_type": "stream",
          "name": "stdout",
          "text": [
            "[1, 2]\n"
          ]
        }
      ]
    },
    {
      "cell_type": "code",
      "source": [
        "# reverse()\n",
        "# El método reverse() inverte el órden de la lista.\n",
        "l = [1, 2, 3]\n",
        "l.reverse()\n",
        "print(l) #[3, 2, 1]"
      ],
      "metadata": {
        "colab": {
          "base_uri": "https://localhost:8080/"
        },
        "id": "PZaNSwzu9Ak4",
        "outputId": "ac8fd4d0-d547-4e1b-fab3-6d7c6db38acf"
      },
      "execution_count": null,
      "outputs": [
        {
          "output_type": "stream",
          "name": "stdout",
          "text": [
            "[3, 2, 1]\n"
          ]
        }
      ]
    },
    {
      "cell_type": "code",
      "source": [
        "# sort()\n",
        "# El método sort() ordena los elementos de menos a mayor por defecto.\n",
        "l = [3, 1, 2]\n",
        "l.sort()\n",
        "print(l) #[1, 2, 3]"
      ],
      "metadata": {
        "colab": {
          "base_uri": "https://localhost:8080/"
        },
        "id": "R9-8sgJ29DpH",
        "outputId": "e91f1cec-146f-4126-b77f-18b737d8abc4"
      },
      "execution_count": null,
      "outputs": [
        {
          "output_type": "stream",
          "name": "stdout",
          "text": [
            "[1, 2, 3]\n"
          ]
        }
      ]
    },
    {
      "cell_type": "code",
      "source": [
        "# Y también permite ordenar de mayor a menor si se pasa como parámetro reverse=True\n",
        "l = [3, 1, 2]\n",
        "l.sort(reverse=True)\n",
        "print(l) #[3, 2, 1]"
      ],
      "metadata": {
        "colab": {
          "base_uri": "https://localhost:8080/"
        },
        "id": "XPfqfWuT9FaY",
        "outputId": "ab6fce04-c9ee-4e0a-a27f-527b3af06d57"
      },
      "execution_count": null,
      "outputs": [
        {
          "output_type": "stream",
          "name": "stdout",
          "text": [
            "[3, 2, 1]\n"
          ]
        }
      ]
    },
    {
      "cell_type": "code",
      "source": [
        "# index(<obj>[,index])\n",
        "#El método index() recibe como parámetro un objeto y devuelve el índice de su primera aparición.\n",
        "#Como hemos visto en otras ocasiones, el índice del primer elemento es el 0.\n",
        "l = [\"Periphery\", \"Intervals\", \"Monuments\"]\n",
        "print(l.index(\"Intervals\"))"
      ],
      "metadata": {
        "colab": {
          "base_uri": "https://localhost:8080/"
        },
        "id": "HXcn5ai59KSK",
        "outputId": "3a7e2297-ac2d-468c-a140-14e1040b46dd"
      },
      "execution_count": null,
      "outputs": [
        {
          "output_type": "stream",
          "name": "stdout",
          "text": [
            "1\n"
          ]
        }
      ]
    },
    {
      "cell_type": "code",
      "source": [
        "#También permite introducir un parámetro opcional que representa el índice desde el que comenzar la búsqueda del objeto.\n",
        "#Es como si ignorara todo lo que hay antes de ese índice para la búsqueda, en este caso el 4.\n",
        "l = [1, 1, 1, 1, 2, 1, 4, 5]\n",
        "print(l.index(1, 4)) #5"
      ],
      "metadata": {
        "colab": {
          "base_uri": "https://localhost:8080/"
        },
        "id": "pso1j1Rj9NVu",
        "outputId": "92c5098f-c4b6-4596-bcd9-2a9f129f4ef0"
      },
      "execution_count": null,
      "outputs": [
        {
          "output_type": "stream",
          "name": "stdout",
          "text": [
            "5\n"
          ]
        }
      ]
    },
    {
      "cell_type": "code",
      "source": [
        "#Elabora un programa que lea un arreglo de 10 posiciones que contenga las edades de 10 de sus compañeros,\n",
        "#calcule el promedio de las edades, obtenga la edad mayor y la edad menor. Al final imprima todos los elementos de la lista"
      ],
      "metadata": {
        "id": "Q4rrdzVs9IYc"
      },
      "execution_count": null,
      "outputs": []
    },
    {
      "cell_type": "code",
      "source": [
        "edades = []\n",
        "for i in range(10):\n",
        "    edad= int (input (f\"Ingresar la edad del alumno {i+1}:\"))\n",
        "    edades.append(edad)\n",
        "promedio = sum(edades) / len(edades)\n",
        "edad_mayor = max(edades)\n",
        "edad_menor = min(edades)\n",
        "print (f\"el promedio de edades es {promedio}\")\n",
        "print (f\"los alumnos que son mayores de edad son {edad_mayor}\")\n",
        "print (f\"los alumnos que son menores de edad son {edad_menor}\")"
      ],
      "metadata": {
        "id": "9IEpjeJi9Rxk",
        "colab": {
          "base_uri": "https://localhost:8080/"
        },
        "outputId": "8f5fdc92-88bc-4972-d6ac-a5dbe1c8bdac"
      },
      "execution_count": null,
      "outputs": [
        {
          "output_type": "stream",
          "name": "stdout",
          "text": [
            "Ingresar la edad del alumno 1:17\n",
            "Ingresar la edad del alumno 2:18\n",
            "Ingresar la edad del alumno 3:18\n",
            "Ingresar la edad del alumno 4:17\n",
            "Ingresar la edad del alumno 5:20\n",
            "Ingresar la edad del alumno 6:17\n",
            "Ingresar la edad del alumno 7:18\n",
            "Ingresar la edad del alumno 8:17\n",
            "Ingresar la edad del alumno 9:18\n",
            "Ingresar la edad del alumno 10:20\n",
            "el promedio de edades es 18.0\n",
            "los alumnos que son mayores de edad son 20\n",
            "los alumnos que son menores de edad son 17\n"
          ]
        }
      ]
    },
    {
      "cell_type": "code",
      "source": [
        "#Elabore un programa que lea un arreglo de 14 posiciones que contenga los sueldos de los trabajadores de una empresa\n",
        "#agregue el sueldo de un empleado más de $2,500.00, Calcule la nomina total (suma de todos los sueldos) ordene el arreglo\n",
        "#Ordene los datos, elimine el primer elemento de la fila, Al final imprima todos los elementos de la lista"
      ],
      "metadata": {
        "id": "bwpoX64l9Kss"
      },
      "execution_count": null,
      "outputs": []
    },
    {
      "cell_type": "code",
      "source": [
        "sueldos = []\n",
        "for i in range(14):\n",
        "    sueldo = float(input(f\"Ingrese el sueldo del trabajador {i+1}: \"))\n",
        "    sueldos.append(sueldo)\n",
        "\n",
        "nuevo_sueldo = float(input(\"Ingrese el sueldo del nuevo empleado: \"))\n",
        "if nuevo_sueldo > 2500.00:\n",
        "    sueldos.append(nuevo_sueldo)\n",
        "else:\n",
        "    print(\"El sueldo del nuevo empleado debe ser más de $2,500.00. No se ha agregado.\")\n",
        "\n",
        "nomina_total = sum(sueldos)\n",
        "\n",
        "sueldos.sort()\n",
        "\n",
        "sueldos.pop(0)\n",
        "\n",
        "print(f\"\\nNómina total: ${nomina_total:.2f}\")\n",
        "print(\"Sueldos ordenados y sin el primer elemento:\")\n",
        "for sueldo in sueldos:\n",
        "    print(f\"${sueldo:.2f}\")"
      ],
      "metadata": {
        "colab": {
          "base_uri": "https://localhost:8080/"
        },
        "id": "kZu8L4dzgP0-",
        "outputId": "beb7ba35-7cb6-4d1d-bfde-1881aa70016f"
      },
      "execution_count": null,
      "outputs": [
        {
          "output_type": "stream",
          "name": "stdout",
          "text": [
            "Ingrese el sueldo del trabajador 1: 1300\n",
            "Ingrese el sueldo del trabajador 2: 1400\n",
            "Ingrese el sueldo del trabajador 3: 1500\n",
            "Ingrese el sueldo del trabajador 4: 1600\n",
            "Ingrese el sueldo del trabajador 5: 1700\n",
            "Ingrese el sueldo del trabajador 6: 1800\n",
            "Ingrese el sueldo del trabajador 7: 1900\n",
            "Ingrese el sueldo del trabajador 8: 2000\n",
            "Ingrese el sueldo del trabajador 9: 2100\n",
            "Ingrese el sueldo del trabajador 10: 2200\n",
            "Ingrese el sueldo del trabajador 11: 2300\n",
            "Ingrese el sueldo del trabajador 12: 2400\n",
            "Ingrese el sueldo del trabajador 13: 2450\n",
            "Ingrese el sueldo del trabajador 14: 2460\n",
            "Ingrese el sueldo del nuevo empleado: 3000\n",
            "\n",
            "Nómina total: $30110.00\n",
            "Sueldos ordenados y sin el primer elemento:\n",
            "$1400.00\n",
            "$1500.00\n",
            "$1600.00\n",
            "$1700.00\n",
            "$1800.00\n",
            "$1900.00\n",
            "$2000.00\n",
            "$2100.00\n",
            "$2200.00\n",
            "$2300.00\n",
            "$2400.00\n",
            "$2450.00\n",
            "$2460.00\n",
            "$3000.00\n"
          ]
        }
      ]
    }
  ]
}